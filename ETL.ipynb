{
 "cells": [
  {
   "cell_type": "code",
   "execution_count": 1,
   "metadata": {},
   "outputs": [],
   "source": [
    "import pandas as pd"
   ]
  },
  {
   "cell_type": "code",
   "execution_count": 2,
   "metadata": {},
   "outputs": [],
   "source": [
    "import matplotlib.pyplot as plt"
   ]
  },
  {
   "cell_type": "code",
   "execution_count": 140,
   "metadata": {},
   "outputs": [],
   "source": [
    "data = pd.read_csv(\"crash_data_2022-06-12.csv\")"
   ]
  },
  {
   "cell_type": "code",
   "execution_count": 141,
   "metadata": {},
   "outputs": [
    {
     "data": {
      "text/plain": [
       "Index(['odd', 'players', 'prize_pool', 'duration', 'time_span'], dtype='object')"
      ]
     },
     "execution_count": 141,
     "metadata": {},
     "output_type": "execute_result"
    }
   ],
   "source": [
    "data.columns"
   ]
  },
  {
   "cell_type": "code",
   "execution_count": 142,
   "metadata": {},
   "outputs": [
    {
     "data": {
      "text/plain": [
       "'odd'"
      ]
     },
     "execution_count": 142,
     "metadata": {},
     "output_type": "execute_result"
    }
   ],
   "source": [
    "data['odd'][0]"
   ]
  },
  {
   "cell_type": "code",
   "execution_count": 143,
   "metadata": {},
   "outputs": [
    {
     "data": {
      "text/plain": [
       "'odd'"
      ]
     },
     "execution_count": 143,
     "metadata": {},
     "output_type": "execute_result"
    }
   ],
   "source": [
    "data['odd'][0].replace(\"X\\n\", \" \").split()[0]"
   ]
  },
  {
   "cell_type": "code",
   "execution_count": 144,
   "metadata": {},
   "outputs": [],
   "source": [
    "for i in range(len(data['odd'])):\n",
    "    data['odd'][i]= data['odd'][i].replace(\"X\\n\", \" \").split()[0]"
   ]
  },
  {
   "cell_type": "code",
   "execution_count": 145,
   "metadata": {},
   "outputs": [
    {
     "data": {
      "text/plain": [
       "0       odd\n",
       "1       odd\n",
       "2       odd\n",
       "3       odd\n",
       "4       odd\n",
       "       ... \n",
       "346    3.65\n",
       "347    8.02\n",
       "348    9.20\n",
       "349    1.40\n",
       "350    3.08\n",
       "Name: odd, Length: 351, dtype: object"
      ]
     },
     "execution_count": 145,
     "metadata": {},
     "output_type": "execute_result"
    }
   ],
   "source": [
    "data['odd']"
   ]
  },
  {
   "cell_type": "code",
   "execution_count": 146,
   "metadata": {},
   "outputs": [
    {
     "data": {
      "text/plain": [
       "count      351\n",
       "unique     211\n",
       "top       1.00\n",
       "freq        22\n",
       "Name: odd, dtype: object"
      ]
     },
     "execution_count": 146,
     "metadata": {},
     "output_type": "execute_result"
    }
   ],
   "source": [
    "data['odd'].describe()"
   ]
  },
  {
   "cell_type": "code",
   "execution_count": 147,
   "metadata": {},
   "outputs": [
    {
     "data": {
      "text/html": [
       "<div>\n",
       "<style scoped>\n",
       "    .dataframe tbody tr th:only-of-type {\n",
       "        vertical-align: middle;\n",
       "    }\n",
       "\n",
       "    .dataframe tbody tr th {\n",
       "        vertical-align: top;\n",
       "    }\n",
       "\n",
       "    .dataframe thead th {\n",
       "        text-align: right;\n",
       "    }\n",
       "</style>\n",
       "<table border=\"1\" class=\"dataframe\">\n",
       "  <thead>\n",
       "    <tr style=\"text-align: right;\">\n",
       "      <th></th>\n",
       "      <th>odd</th>\n",
       "      <th>players</th>\n",
       "      <th>prize_pool</th>\n",
       "      <th>duration</th>\n",
       "      <th>time_span</th>\n",
       "    </tr>\n",
       "  </thead>\n",
       "  <tbody>\n",
       "    <tr>\n",
       "      <th>count</th>\n",
       "      <td>351</td>\n",
       "      <td>351</td>\n",
       "      <td>351</td>\n",
       "      <td>6</td>\n",
       "      <td>351</td>\n",
       "    </tr>\n",
       "    <tr>\n",
       "      <th>unique</th>\n",
       "      <td>211</td>\n",
       "      <td>307</td>\n",
       "      <td>343</td>\n",
       "      <td>1</td>\n",
       "      <td>346</td>\n",
       "    </tr>\n",
       "    <tr>\n",
       "      <th>top</th>\n",
       "      <td>1.00</td>\n",
       "      <td>players</td>\n",
       "      <td>prize_pool</td>\n",
       "      <td>duration</td>\n",
       "      <td>time_span</td>\n",
       "    </tr>\n",
       "    <tr>\n",
       "      <th>freq</th>\n",
       "      <td>22</td>\n",
       "      <td>6</td>\n",
       "      <td>6</td>\n",
       "      <td>6</td>\n",
       "      <td>6</td>\n",
       "    </tr>\n",
       "  </tbody>\n",
       "</table>\n",
       "</div>"
      ],
      "text/plain": [
       "         odd  players  prize_pool  duration  time_span\n",
       "count    351      351         351         6        351\n",
       "unique   211      307         343         1        346\n",
       "top     1.00  players  prize_pool  duration  time_span\n",
       "freq      22        6           6         6          6"
      ]
     },
     "execution_count": 147,
     "metadata": {},
     "output_type": "execute_result"
    }
   ],
   "source": [
    "data.describe()"
   ]
  },
  {
   "cell_type": "code",
   "execution_count": 148,
   "metadata": {},
   "outputs": [
    {
     "data": {
      "text/html": [
       "<div>\n",
       "<style scoped>\n",
       "    .dataframe tbody tr th:only-of-type {\n",
       "        vertical-align: middle;\n",
       "    }\n",
       "\n",
       "    .dataframe tbody tr th {\n",
       "        vertical-align: top;\n",
       "    }\n",
       "\n",
       "    .dataframe thead th {\n",
       "        text-align: right;\n",
       "    }\n",
       "</style>\n",
       "<table border=\"1\" class=\"dataframe\">\n",
       "  <thead>\n",
       "    <tr style=\"text-align: right;\">\n",
       "      <th></th>\n",
       "      <th>odd</th>\n",
       "      <th>players</th>\n",
       "      <th>prize_pool</th>\n",
       "      <th>duration</th>\n",
       "      <th>time_span</th>\n",
       "    </tr>\n",
       "  </thead>\n",
       "  <tbody>\n",
       "    <tr>\n",
       "      <th>0</th>\n",
       "      <td>odd</td>\n",
       "      <td>players</td>\n",
       "      <td>prize_pool</td>\n",
       "      <td>duration</td>\n",
       "      <td>time_span</td>\n",
       "    </tr>\n",
       "    <tr>\n",
       "      <th>1</th>\n",
       "      <td>odd</td>\n",
       "      <td>players</td>\n",
       "      <td>prize_pool</td>\n",
       "      <td>duration</td>\n",
       "      <td>time_span</td>\n",
       "    </tr>\n",
       "    <tr>\n",
       "      <th>2</th>\n",
       "      <td>odd</td>\n",
       "      <td>players</td>\n",
       "      <td>prize_pool</td>\n",
       "      <td>duration</td>\n",
       "      <td>time_span</td>\n",
       "    </tr>\n",
       "    <tr>\n",
       "      <th>3</th>\n",
       "      <td>odd</td>\n",
       "      <td>players</td>\n",
       "      <td>prize_pool</td>\n",
       "      <td>duration</td>\n",
       "      <td>time_span</td>\n",
       "    </tr>\n",
       "    <tr>\n",
       "      <th>4</th>\n",
       "      <td>odd</td>\n",
       "      <td>players</td>\n",
       "      <td>prize_pool</td>\n",
       "      <td>duration</td>\n",
       "      <td>time_span</td>\n",
       "    </tr>\n",
       "  </tbody>\n",
       "</table>\n",
       "</div>"
      ],
      "text/plain": [
       "   odd  players  prize_pool  duration  time_span\n",
       "0  odd  players  prize_pool  duration  time_span\n",
       "1  odd  players  prize_pool  duration  time_span\n",
       "2  odd  players  prize_pool  duration  time_span\n",
       "3  odd  players  prize_pool  duration  time_span\n",
       "4  odd  players  prize_pool  duration  time_span"
      ]
     },
     "execution_count": 148,
     "metadata": {},
     "output_type": "execute_result"
    }
   ],
   "source": [
    "data.head()"
   ]
  },
  {
   "cell_type": "code",
   "execution_count": 149,
   "metadata": {},
   "outputs": [
    {
     "data": {
      "text/plain": [
       "0                             players\n",
       "1                             players\n",
       "2                             players\n",
       "3                             players\n",
       "4                             players\n",
       "                    ...              \n",
       "346    2665 players placed their bets\n",
       "347    2850 players placed their bets\n",
       "348    1896 players placed their bets\n",
       "349    2215 players placed their bets\n",
       "350    1609 players placed their bets\n",
       "Name: players, Length: 351, dtype: object"
      ]
     },
     "execution_count": 149,
     "metadata": {},
     "output_type": "execute_result"
    }
   ],
   "source": [
    "data['players']"
   ]
  },
  {
   "cell_type": "code",
   "execution_count": 150,
   "metadata": {},
   "outputs": [],
   "source": [
    "for each in range(len(data['players'])):\n",
    "    data['players'][each] = data['players'][each].split()[0]"
   ]
  },
  {
   "cell_type": "code",
   "execution_count": 151,
   "metadata": {},
   "outputs": [
    {
     "data": {
      "text/html": [
       "<div>\n",
       "<style scoped>\n",
       "    .dataframe tbody tr th:only-of-type {\n",
       "        vertical-align: middle;\n",
       "    }\n",
       "\n",
       "    .dataframe tbody tr th {\n",
       "        vertical-align: top;\n",
       "    }\n",
       "\n",
       "    .dataframe thead th {\n",
       "        text-align: right;\n",
       "    }\n",
       "</style>\n",
       "<table border=\"1\" class=\"dataframe\">\n",
       "  <thead>\n",
       "    <tr style=\"text-align: right;\">\n",
       "      <th></th>\n",
       "      <th>odd</th>\n",
       "      <th>players</th>\n",
       "      <th>prize_pool</th>\n",
       "      <th>duration</th>\n",
       "      <th>time_span</th>\n",
       "    </tr>\n",
       "  </thead>\n",
       "  <tbody>\n",
       "    <tr>\n",
       "      <th>0</th>\n",
       "      <td>odd</td>\n",
       "      <td>players</td>\n",
       "      <td>prize_pool</td>\n",
       "      <td>duration</td>\n",
       "      <td>time_span</td>\n",
       "    </tr>\n",
       "    <tr>\n",
       "      <th>1</th>\n",
       "      <td>odd</td>\n",
       "      <td>players</td>\n",
       "      <td>prize_pool</td>\n",
       "      <td>duration</td>\n",
       "      <td>time_span</td>\n",
       "    </tr>\n",
       "    <tr>\n",
       "      <th>2</th>\n",
       "      <td>odd</td>\n",
       "      <td>players</td>\n",
       "      <td>prize_pool</td>\n",
       "      <td>duration</td>\n",
       "      <td>time_span</td>\n",
       "    </tr>\n",
       "    <tr>\n",
       "      <th>3</th>\n",
       "      <td>odd</td>\n",
       "      <td>players</td>\n",
       "      <td>prize_pool</td>\n",
       "      <td>duration</td>\n",
       "      <td>time_span</td>\n",
       "    </tr>\n",
       "    <tr>\n",
       "      <th>4</th>\n",
       "      <td>odd</td>\n",
       "      <td>players</td>\n",
       "      <td>prize_pool</td>\n",
       "      <td>duration</td>\n",
       "      <td>time_span</td>\n",
       "    </tr>\n",
       "  </tbody>\n",
       "</table>\n",
       "</div>"
      ],
      "text/plain": [
       "   odd  players  prize_pool  duration  time_span\n",
       "0  odd  players  prize_pool  duration  time_span\n",
       "1  odd  players  prize_pool  duration  time_span\n",
       "2  odd  players  prize_pool  duration  time_span\n",
       "3  odd  players  prize_pool  duration  time_span\n",
       "4  odd  players  prize_pool  duration  time_span"
      ]
     },
     "execution_count": 151,
     "metadata": {},
     "output_type": "execute_result"
    }
   ],
   "source": [
    "data.head()"
   ]
  },
  {
   "cell_type": "code",
   "execution_count": 152,
   "metadata": {},
   "outputs": [],
   "source": [
    "for each in range(len(data['prize_pool'])):\n",
    "    data['prize_pool'][each] = data['prize_pool'][each][2:]"
   ]
  },
  {
   "cell_type": "code",
   "execution_count": 153,
   "metadata": {},
   "outputs": [],
   "source": [
    "for each in range(len(data['duration'])):\n",
    "    data['duration'][each] = data['time_span'][each]"
   ]
  },
  {
   "cell_type": "code",
   "execution_count": 154,
   "metadata": {},
   "outputs": [
    {
     "name": "stdout",
     "output_type": "stream",
     "text": [
      "lol\n",
      "lol\n",
      "lol\n",
      "lol\n",
      "lol\n",
      "lol\n"
     ]
    }
   ],
   "source": [
    "for each in range(len(data['odd'])):\n",
    "    try:\n",
    "        data['odd'][each] = float(data['odd'][each])\n",
    "        data['players'][each] = int(data['players'][each])\n",
    "        data['prize_pool'][each] = float(data['prize_pool'][each])\n",
    "        data['duration'][each] = float(data['duration'][each])\n",
    "\n",
    "    except:\n",
    "        print('lol')"
   ]
  },
  {
   "cell_type": "code",
   "execution_count": 155,
   "metadata": {},
   "outputs": [
    {
     "data": {
      "text/plain": [
       "str"
      ]
     },
     "execution_count": 155,
     "metadata": {},
     "output_type": "execute_result"
    }
   ],
   "source": [
    "type(data['duration'][0])"
   ]
  },
  {
   "cell_type": "code",
   "execution_count": 156,
   "metadata": {},
   "outputs": [],
   "source": [
    "data.drop('time_span', axis=1, inplace = True)"
   ]
  },
  {
   "cell_type": "code",
   "execution_count": 157,
   "metadata": {},
   "outputs": [],
   "source": [
    "#data.drop(8, inplace=True)"
   ]
  },
  {
   "cell_type": "code",
   "execution_count": 170,
   "metadata": {},
   "outputs": [],
   "source": [
    "data.to_csv('out5.csv', index=False)\n"
   ]
  },
  {
   "cell_type": "code",
   "execution_count": 169,
   "metadata": {},
   "outputs": [],
   "source": []
  },
  {
   "cell_type": "code",
   "execution_count": null,
   "metadata": {},
   "outputs": [],
   "source": []
  },
  {
   "cell_type": "code",
   "execution_count": null,
   "metadata": {},
   "outputs": [],
   "source": []
  }
 ],
 "metadata": {
  "interpreter": {
   "hash": "53ca681ee8de3b54bf163d1b625454d8007d7c8aeafa791857ff706faaf06eee"
  },
  "kernelspec": {
   "display_name": "Python 3.9.2 64-bit",
   "language": "python",
   "name": "python3"
  },
  "language_info": {
   "codemirror_mode": {
    "name": "ipython",
    "version": 3
   },
   "file_extension": ".py",
   "mimetype": "text/x-python",
   "name": "python",
   "nbconvert_exporter": "python",
   "pygments_lexer": "ipython3",
   "version": "3.9.2"
  },
  "orig_nbformat": 4
 },
 "nbformat": 4,
 "nbformat_minor": 2
}
